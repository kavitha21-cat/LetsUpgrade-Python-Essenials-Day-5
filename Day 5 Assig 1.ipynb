{
 "cells": [
  {
   "cell_type": "code",
   "execution_count": 1,
   "metadata": {},
   "outputs": [],
   "source": [
    "   def length():\n",
    "    length = int(input(\"Enter the length of list \"))\n",
    "\n",
    "    test=[1,1,5]\n",
    "\n",
    "    lst=[]\n",
    "\n",
    "    for i in range (0,length):\n",
    "\n",
    "        inp = int(input(\"Enter the number \"))\n",
    "\n",
    "        lst.append(inp)\n",
    "        j=0\n",
    "    for i in range (0,length):\n",
    "\n",
    "        if(lst[i] == test[j]):\n",
    "\n",
    "            j += 1\n",
    "\n",
    "            i += 1\n",
    "\n",
    "        else:\n",
    "\n",
    "            i += 1\n",
    " \n",
    "    if(j == 3):\n",
    "\n",
    "        print (\"It's a match\")\n",
    "\n",
    "    else:\n",
    "\n",
    "        print (\"It's Gone\")\n"
   ]
  },
  {
   "cell_type": "code",
   "execution_count": 2,
   "metadata": {},
   "outputs": [
    {
     "name": "stdout",
     "output_type": "stream",
     "text": [
      "Enter the length of list 8\n",
      "Enter the number 1\n",
      "Enter the number 5\n",
      "Enter the number 6\n",
      "Enter the number 4\n",
      "Enter the number 1\n",
      "Enter the number 2\n",
      "Enter the number 3\n",
      "Enter the number 5\n",
      "It's a match\n"
     ]
    }
   ],
   "source": [
    "length()"
   ]
  },
  {
   "cell_type": "code",
   "execution_count": null,
   "metadata": {},
   "outputs": [],
   "source": []
  }
 ],
 "metadata": {
  "kernelspec": {
   "display_name": "Python 3",
   "language": "python",
   "name": "python3"
  },
  "language_info": {
   "codemirror_mode": {
    "name": "ipython",
    "version": 3
   },
   "file_extension": ".py",
   "mimetype": "text/x-python",
   "name": "python",
   "nbconvert_exporter": "python",
   "pygments_lexer": "ipython3",
   "version": "3.8.3"
  }
 },
 "nbformat": 4,
 "nbformat_minor": 4
}
